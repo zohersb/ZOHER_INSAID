{
 "cells": [
  {
   "cell_type": "markdown",
   "metadata": {
    "colab_type": "text",
    "id": "9ku0h8OsoHJz"
   },
   "source": [
    "<p align=\"center\"><img src=\"https://github.com/insaid2018/Term-1/blob/master/Images/INSAID_Full%20Logo.png?raw=true\" width=\"260\" height=\"110\" /></p>"
   ]
  },
  {
   "cell_type": "markdown",
   "metadata": {
    "colab_type": "text",
    "id": "NWvRwRdGoK5Y"
   },
   "source": [
    "---\n",
    "# **Table of Contents**\n",
    "---\n",
    "\n",
    "1. [**Introduction**](#Section1)<br>\n",
    "2. [**Problem Statement**](#Section2)<br>\n",
    "3. [**Installing & Importing Libraries**](#Section3)<br>\n",
    "4. [**Data Acquisition & Description**](#Section4)<br>\n",
    "5. [**Data Pre-Profiling**](#Section5)<br>\n",
    "6. [**Exploratory Data Analysis**](#Section8)<br>\n",
    "7. [**Building a model**](#Section7)<br>\n",
    "8. [**Summarization**](#Section9)</br>\n",
    "  9.1 [**Conclusion**](#Section91)</br>\n",
    "  9.2 [**Actionable Insights**](#Section91)</br>\n",
    "\n",
    "---"
   ]
  },
  {
   "cell_type": "markdown",
   "metadata": {
    "colab_type": "text",
    "id": "iACv_4iIoaLi"
   },
   "source": [
    "---\n",
    "<a name = Section1></a>\n",
    "# **1. Introduction**\n",
    "---\n",
    "\n",
    "Company Introduction\n",
    "\n",
    "Your client for this project is a major Avocado Producer.\n",
    "\n",
    "- Their avocados are sourced from over 1000 growers owning over 65,000 acres across California, Mexico, Chile, and Peru.\n",
    "- With generations of experience growing, packing, and shipping avocados, they have a deep understanding of the avocado industry.\n",
    "- Their aim is to source quality fruit that’s sustainably grown and handled in the most efficient, shortest supply route possible.\n",
    "- They want to increase their supply throughout the United States and need to make sure that they are selling their products at the best possible price.\n",
    "\n",
    "\n",
    "Current Scenario\n",
    "Avocado prices have rocketed in recent years by up to 129%, with the average national price in the US of a single Hass avocado reaching $2.10 in 2019, almost doubling in just one year.\n",
    "\n",
    "Due to this uncertainty in the prices, the company is not able to sell their produce at the optimal price.\n",
    "\n"
   ]
  },
  {
   "cell_type": "markdown",
   "metadata": {
    "colab_type": "text",
    "id": "sOGJAM3AoePy"
   },
   "source": [
    "---\n",
    "<a name = Section2></a>\n",
    "# **2. Problem Statement**\n",
    "---\n",
    "\n",
    "- This section is emphasised on providing some generic introduction to the problem that most companies confronts.\n",
    "\n",
    "- **Problem Statement:**\n",
    "\n",
    "- The current process suffers from the following problems:\n",
    "\n",
    "- The price of avocado is dependent on global demands and seasonal production.\n",
    "Due to these reasons, it is quite difficult to know for certain the price in the future.\n",
    "\n",
    "- The company has hired you as data science consultants. They want to automate the process of predicting the future price of avocado, based on the historical data.\n",
    "\n",
    "\n",
    "Your Role\n",
    "\n",
    "- You are given a dataset containing the weekly retail scan data of avocadoes.\n",
    "- Your task is to build a regression model using the dataset.\n",
    "- Because there was no machine learning model for this problem in the company, you don’t have a quantifiable win condition. You need to build the best possible model.\n",
    "\n"
   ]
  },
  {
   "cell_type": "markdown",
   "metadata": {
    "colab_type": "text",
    "id": "yzSAH3m9pLWi"
   },
   "source": [
    "---\n",
    "<a id = Section3></a>\n",
    "# **3. Installing & Importing Libraries**\n",
    "---\n",
    "\n",
    "- This section is emphasised on installing and importing the necessary libraries that will be required."
   ]
  },
  {
   "cell_type": "markdown",
   "metadata": {
    "colab_type": "text",
    "id": "M0y7joFPpOuQ"
   },
   "source": [
    "### **Installing Libraries**"
   ]
  },
  {
   "cell_type": "code",
   "execution_count": null,
   "metadata": {
    "colab": {},
    "colab_type": "code",
    "id": "S3pqantTnmxX"
   },
   "outputs": [],
   "source": [
    "#!pip install -q datascience                                         # Package that is required by pandas profiling\n",
    "#!pip install -q pandas-profiling                                    # Library to generate basic statistics about data\n",
    "# To install more libraries insert your code here.."
   ]
  },
  {
   "cell_type": "markdown",
   "metadata": {
    "colab_type": "text",
    "id": "pYQrkcl4pe8J"
   },
   "source": [
    "### **Upgrading Libraries**\n",
    "\n",
    "- **After upgrading** the libraries, you need to **restart the runtime** to make the libraries in sync.\n",
    "\n",
    "- Make sure not to execute the cell under Installing Libraries and Upgrading Libraries again after restarting the runtime."
   ]
  },
  {
   "cell_type": "markdown",
   "metadata": {
    "colab_type": "text",
    "id": "PbyRyjDhpoJj"
   },
   "source": [
    "### **Importing Libraries**\n",
    "\n",
    "- You can headstart with the basic libraries as imported inside the cell below.\n",
    "\n",
    "- If you want to import some additional libraries, feel free to do so.\n"
   ]
  },
  {
   "cell_type": "code",
   "execution_count": 1,
   "metadata": {
    "colab": {},
    "colab_type": "code",
    "id": "5RapekFlpptb"
   },
   "outputs": [],
   "source": [
    "#-------------------------------------------------------------------------------------------------------------------------------\n",
    "import pandas as pd                                                 # Importing package pandas (For Panel Data Analysis)\n",
    "from pandas_profiling import ProfileReport                          # Import Pandas Profiling (To generate Univariate Analysis)\n",
    "#-------------------------------------------------------------------------------------------------------------------------------\n",
    "import numpy as np                                                  # Importing package numpys (For Numerical Python)\n",
    "#-------------------------------------------------------------------------------------------------------------------------------\n",
    "import matplotlib.pyplot as plt                                     # Importing pyplot interface to use matplotlib\n",
    "import seaborn as sns                                               # Importing seaborn library for interactive visualization\n",
    "%matplotlib inline\n",
    "#-------------------------------------------------------------------------------------------------------------------------------\n",
    "import scipy as sp                                                  # Importing library for scientific calculations\n",
    "#-------------------------------------------------------------------------------------------------------------------------------\n",
    "from sklearn.model_selection import train_test_split                # To split the data in training and testing part     \n",
    "from sklearn.linear_model import LinearRegression\n",
    "from sklearn.linear_model import LogisticRegression                 # To create the Logistic Regression Model\n",
    "from sklearn import metrics\n",
    "#-------------------------------------------------------------------------------------------------------------------------------\n",
    "import warnings                                                     # Importing warning to disable runtime warnings\n",
    "warnings.filterwarnings(\"ignore\") "
   ]
  },
  {
   "cell_type": "markdown",
   "metadata": {
    "colab_type": "text",
    "id": "ys9Qb4OlpzvZ"
   },
   "source": [
    "---\n",
    "<a name = Section4></a>\n",
    "# **4. Data Acquisition & Description**\n",
    "---\n",
    "\n",
    "- This section is emphasised on the accquiring the data and obtain some descriptive information out of it.\n",
    "\n",
    "- You could either scrap the data and then continue, or use a direct source of link (generally preferred in most cases).\n",
    "\n",
    "- You will be working with a direct source of link to head start your work without worrying about anything.\n",
    "\n",
    "- Before going further you must have a good idea about the features of the data set:\n",
    "\n",
    "|Id|Feature|Description|\n",
    "|:--|:--|:--|\n",
    "|01|Id| Unique identity of each observation| \n",
    "|02|Date| The date of the observation.| \n",
    "|03|AveragePrice| The average price of a single avocado.| \n",
    "|04|Total Volume| Total number of avocados sold.|\n",
    "|05|4046| Total number of avocados with PLU 4046 sold.|\n",
    "|06|4225| Total number of avocados with PLU 4225 sold.|\n",
    "|07|4770| Total number of avocados with PLU 4770 sold.|\n",
    "|08|Total Bags| Total number of bags sold.| \n",
    "|09|AveragePrice| The average price of a single avocado.| \n",
    "|10|Small Bags| Total number of small bags sold.|\n",
    "|11|Large Bags| Total number of large bags sold.|\n",
    "|12|sugarpercent| Type of an avocado (conventional or organic).|\n",
    "|13|type| TTotal number of Xtra large bags sold.|\n",
    "|14|year| The year of observation.|\n",
    "|15|Region| The city or region of the observation.|\n"
   ]
  },
  {
   "cell_type": "code",
   "execution_count": 2,
   "metadata": {
    "colab": {
     "base_uri": "https://localhost:8080/",
     "height": 221
    },
    "colab_type": "code",
    "executionInfo": {
     "elapsed": 1324,
     "status": "ok",
     "timestamp": 1600335454118,
     "user": {
      "displayName": "Mukesh Kumar",
      "photoUrl": "",
      "userId": "01238672520445611335"
     },
     "user_tz": -330
    },
    "id": "aXPrewndpw1T",
    "outputId": "cb7e3afb-ae87-45de-ebfb-3b3adf7be59d"
   },
   "outputs": [],
   "source": [
    "#Loading CSV file\n",
    "\n",
    "train_data = pd.read_csv('C:/Users/zoher/Desktop/Term 5/Project/AVACADO PRICE PREDICTION/avocado_train.csv')\n"
   ]
  },
  {
   "cell_type": "code",
   "execution_count": 3,
   "metadata": {},
   "outputs": [
    {
     "data": {
      "text/html": [
       "<div>\n",
       "<style scoped>\n",
       "    .dataframe tbody tr th:only-of-type {\n",
       "        vertical-align: middle;\n",
       "    }\n",
       "\n",
       "    .dataframe tbody tr th {\n",
       "        vertical-align: top;\n",
       "    }\n",
       "\n",
       "    .dataframe thead th {\n",
       "        text-align: right;\n",
       "    }\n",
       "</style>\n",
       "<table border=\"1\" class=\"dataframe\">\n",
       "  <thead>\n",
       "    <tr style=\"text-align: right;\">\n",
       "      <th></th>\n",
       "      <th>Id</th>\n",
       "      <th>Date</th>\n",
       "      <th>AveragePrice</th>\n",
       "      <th>Total Volume</th>\n",
       "      <th>4046</th>\n",
       "      <th>4225</th>\n",
       "      <th>4770</th>\n",
       "      <th>Total Bags</th>\n",
       "      <th>Small Bags</th>\n",
       "      <th>Large Bags</th>\n",
       "      <th>XLarge Bags</th>\n",
       "      <th>type</th>\n",
       "      <th>year</th>\n",
       "      <th>region</th>\n",
       "    </tr>\n",
       "  </thead>\n",
       "  <tbody>\n",
       "    <tr>\n",
       "      <th>0</th>\n",
       "      <td>14761</td>\n",
       "      <td>2017-08-20</td>\n",
       "      <td>1.86</td>\n",
       "      <td>2584.08</td>\n",
       "      <td>61.21</td>\n",
       "      <td>143.82</td>\n",
       "      <td>0.00</td>\n",
       "      <td>2379.05</td>\n",
       "      <td>2379.05</td>\n",
       "      <td>0.00</td>\n",
       "      <td>0.00</td>\n",
       "      <td>organic</td>\n",
       "      <td>2017</td>\n",
       "      <td>Albany</td>\n",
       "    </tr>\n",
       "    <tr>\n",
       "      <th>1</th>\n",
       "      <td>6843</td>\n",
       "      <td>2017-11-12</td>\n",
       "      <td>1.14</td>\n",
       "      <td>100811.00</td>\n",
       "      <td>3181.00</td>\n",
       "      <td>43510.00</td>\n",
       "      <td>86.00</td>\n",
       "      <td>54034.00</td>\n",
       "      <td>11788.00</td>\n",
       "      <td>42246.00</td>\n",
       "      <td>0.00</td>\n",
       "      <td>conventional</td>\n",
       "      <td>2017</td>\n",
       "      <td>Louisville</td>\n",
       "    </tr>\n",
       "    <tr>\n",
       "      <th>2</th>\n",
       "      <td>7306</td>\n",
       "      <td>2017-02-12</td>\n",
       "      <td>0.95</td>\n",
       "      <td>430096.94</td>\n",
       "      <td>242212.80</td>\n",
       "      <td>81697.52</td>\n",
       "      <td>264.25</td>\n",
       "      <td>105922.37</td>\n",
       "      <td>48557.37</td>\n",
       "      <td>57365.00</td>\n",
       "      <td>0.00</td>\n",
       "      <td>conventional</td>\n",
       "      <td>2017</td>\n",
       "      <td>Orlando</td>\n",
       "    </tr>\n",
       "    <tr>\n",
       "      <th>3</th>\n",
       "      <td>12329</td>\n",
       "      <td>2016-05-22</td>\n",
       "      <td>1.71</td>\n",
       "      <td>5433.16</td>\n",
       "      <td>437.48</td>\n",
       "      <td>2422.71</td>\n",
       "      <td>544.63</td>\n",
       "      <td>2028.34</td>\n",
       "      <td>2021.67</td>\n",
       "      <td>6.67</td>\n",
       "      <td>0.00</td>\n",
       "      <td>organic</td>\n",
       "      <td>2016</td>\n",
       "      <td>Charlotte</td>\n",
       "    </tr>\n",
       "    <tr>\n",
       "      <th>4</th>\n",
       "      <td>12036</td>\n",
       "      <td>2016-01-10</td>\n",
       "      <td>1.66</td>\n",
       "      <td>5614.09</td>\n",
       "      <td>2123.47</td>\n",
       "      <td>2121.26</td>\n",
       "      <td>0.00</td>\n",
       "      <td>1369.36</td>\n",
       "      <td>392.02</td>\n",
       "      <td>977.34</td>\n",
       "      <td>0.00</td>\n",
       "      <td>organic</td>\n",
       "      <td>2016</td>\n",
       "      <td>Atlanta</td>\n",
       "    </tr>\n",
       "    <tr>\n",
       "      <th>5</th>\n",
       "      <td>7994</td>\n",
       "      <td>2017-02-19</td>\n",
       "      <td>1.14</td>\n",
       "      <td>331446.60</td>\n",
       "      <td>150107.10</td>\n",
       "      <td>76620.67</td>\n",
       "      <td>2862.33</td>\n",
       "      <td>101856.50</td>\n",
       "      <td>78346.11</td>\n",
       "      <td>22320.39</td>\n",
       "      <td>1190.00</td>\n",
       "      <td>conventional</td>\n",
       "      <td>2017</td>\n",
       "      <td>SouthCarolina</td>\n",
       "    </tr>\n",
       "    <tr>\n",
       "      <th>6</th>\n",
       "      <td>6904</td>\n",
       "      <td>2017-09-17</td>\n",
       "      <td>1.84</td>\n",
       "      <td>409206.24</td>\n",
       "      <td>278164.17</td>\n",
       "      <td>53156.30</td>\n",
       "      <td>50.37</td>\n",
       "      <td>77835.40</td>\n",
       "      <td>16642.51</td>\n",
       "      <td>61152.89</td>\n",
       "      <td>40.00</td>\n",
       "      <td>conventional</td>\n",
       "      <td>2017</td>\n",
       "      <td>MiamiFtLauderdale</td>\n",
       "    </tr>\n",
       "    <tr>\n",
       "      <th>7</th>\n",
       "      <td>3235</td>\n",
       "      <td>2016-10-16</td>\n",
       "      <td>1.80</td>\n",
       "      <td>523682.50</td>\n",
       "      <td>52200.02</td>\n",
       "      <td>324240.53</td>\n",
       "      <td>75841.97</td>\n",
       "      <td>71399.98</td>\n",
       "      <td>61522.13</td>\n",
       "      <td>1047.85</td>\n",
       "      <td>8830.00</td>\n",
       "      <td>conventional</td>\n",
       "      <td>2016</td>\n",
       "      <td>Chicago</td>\n",
       "    </tr>\n",
       "    <tr>\n",
       "      <th>8</th>\n",
       "      <td>522</td>\n",
       "      <td>2015-12-20</td>\n",
       "      <td>1.03</td>\n",
       "      <td>117393.22</td>\n",
       "      <td>57557.75</td>\n",
       "      <td>23198.49</td>\n",
       "      <td>16370.50</td>\n",
       "      <td>20266.48</td>\n",
       "      <td>11760.83</td>\n",
       "      <td>4248.29</td>\n",
       "      <td>4257.36</td>\n",
       "      <td>conventional</td>\n",
       "      <td>2015</td>\n",
       "      <td>Columbus</td>\n",
       "    </tr>\n",
       "    <tr>\n",
       "      <th>9</th>\n",
       "      <td>944</td>\n",
       "      <td>2015-11-08</td>\n",
       "      <td>0.75</td>\n",
       "      <td>983909.85</td>\n",
       "      <td>427828.16</td>\n",
       "      <td>411365.91</td>\n",
       "      <td>20404.29</td>\n",
       "      <td>124311.49</td>\n",
       "      <td>56573.89</td>\n",
       "      <td>67737.60</td>\n",
       "      <td>0.00</td>\n",
       "      <td>conventional</td>\n",
       "      <td>2015</td>\n",
       "      <td>Houston</td>\n",
       "    </tr>\n",
       "  </tbody>\n",
       "</table>\n",
       "</div>"
      ],
      "text/plain": [
       "      Id        Date  AveragePrice  Total Volume       4046       4225  \\\n",
       "0  14761  2017-08-20          1.86       2584.08      61.21     143.82   \n",
       "1   6843  2017-11-12          1.14     100811.00    3181.00   43510.00   \n",
       "2   7306  2017-02-12          0.95     430096.94  242212.80   81697.52   \n",
       "3  12329  2016-05-22          1.71       5433.16     437.48    2422.71   \n",
       "4  12036  2016-01-10          1.66       5614.09    2123.47    2121.26   \n",
       "5   7994  2017-02-19          1.14     331446.60  150107.10   76620.67   \n",
       "6   6904  2017-09-17          1.84     409206.24  278164.17   53156.30   \n",
       "7   3235  2016-10-16          1.80     523682.50   52200.02  324240.53   \n",
       "8    522  2015-12-20          1.03     117393.22   57557.75   23198.49   \n",
       "9    944  2015-11-08          0.75     983909.85  427828.16  411365.91   \n",
       "\n",
       "       4770  Total Bags  Small Bags  Large Bags  XLarge Bags          type  \\\n",
       "0      0.00     2379.05     2379.05        0.00         0.00       organic   \n",
       "1     86.00    54034.00    11788.00    42246.00         0.00  conventional   \n",
       "2    264.25   105922.37    48557.37    57365.00         0.00  conventional   \n",
       "3    544.63     2028.34     2021.67        6.67         0.00       organic   \n",
       "4      0.00     1369.36      392.02      977.34         0.00       organic   \n",
       "5   2862.33   101856.50    78346.11    22320.39      1190.00  conventional   \n",
       "6     50.37    77835.40    16642.51    61152.89        40.00  conventional   \n",
       "7  75841.97    71399.98    61522.13     1047.85      8830.00  conventional   \n",
       "8  16370.50    20266.48    11760.83     4248.29      4257.36  conventional   \n",
       "9  20404.29   124311.49    56573.89    67737.60         0.00  conventional   \n",
       "\n",
       "   year             region  \n",
       "0  2017             Albany  \n",
       "1  2017         Louisville  \n",
       "2  2017            Orlando  \n",
       "3  2016          Charlotte  \n",
       "4  2016            Atlanta  \n",
       "5  2017      SouthCarolina  \n",
       "6  2017  MiamiFtLauderdale  \n",
       "7  2016            Chicago  \n",
       "8  2015           Columbus  \n",
       "9  2015            Houston  "
      ]
     },
     "execution_count": 3,
     "metadata": {},
     "output_type": "execute_result"
    }
   ],
   "source": [
    "train_data.head(10)"
   ]
  },
  {
   "cell_type": "code",
   "execution_count": 4,
   "metadata": {},
   "outputs": [
    {
     "data": {
      "text/plain": [
       "3.25"
      ]
     },
     "execution_count": 4,
     "metadata": {},
     "output_type": "execute_result"
    }
   ],
   "source": [
    "train_data['AveragePrice'].max()"
   ]
  },
  {
   "cell_type": "code",
   "execution_count": 5,
   "metadata": {},
   "outputs": [
    {
     "data": {
      "text/plain": [
       "0.44"
      ]
     },
     "execution_count": 5,
     "metadata": {},
     "output_type": "execute_result"
    }
   ],
   "source": [
    "train_data['AveragePrice'].min()"
   ]
  },
  {
   "cell_type": "code",
   "execution_count": 6,
   "metadata": {},
   "outputs": [
    {
     "data": {
      "text/plain": [
       "14599"
      ]
     },
     "execution_count": 6,
     "metadata": {},
     "output_type": "execute_result"
    }
   ],
   "source": [
    "train_data['Id'].nunique()"
   ]
  },
  {
   "cell_type": "code",
   "execution_count": 7,
   "metadata": {},
   "outputs": [
    {
     "data": {
      "text/plain": [
       "(14599, 14)"
      ]
     },
     "execution_count": 7,
     "metadata": {},
     "output_type": "execute_result"
    }
   ],
   "source": [
    "train_data.shape"
   ]
  },
  {
   "cell_type": "code",
   "execution_count": 8,
   "metadata": {},
   "outputs": [],
   "source": [
    "train_data[\"Date\"] = pd.to_datetime(train_data[\"Date\"])"
   ]
  },
  {
   "cell_type": "markdown",
   "metadata": {
    "colab_type": "text",
    "id": "FfkdFrL_qMPn"
   },
   "source": [
    "### **Data Description**\n",
    "\n",
    "- To get some quick description out of the data you can use describe method defined in pandas library."
   ]
  },
  {
   "cell_type": "code",
   "execution_count": 9,
   "metadata": {
    "colab": {},
    "colab_type": "code",
    "id": "cLs4jsSuqJjC"
   },
   "outputs": [
    {
     "data": {
      "text/html": [
       "<div>\n",
       "<style scoped>\n",
       "    .dataframe tbody tr th:only-of-type {\n",
       "        vertical-align: middle;\n",
       "    }\n",
       "\n",
       "    .dataframe tbody tr th {\n",
       "        vertical-align: top;\n",
       "    }\n",
       "\n",
       "    .dataframe thead th {\n",
       "        text-align: right;\n",
       "    }\n",
       "</style>\n",
       "<table border=\"1\" class=\"dataframe\">\n",
       "  <thead>\n",
       "    <tr style=\"text-align: right;\">\n",
       "      <th></th>\n",
       "      <th>Id</th>\n",
       "      <th>AveragePrice</th>\n",
       "      <th>Total Volume</th>\n",
       "      <th>4046</th>\n",
       "      <th>4225</th>\n",
       "      <th>4770</th>\n",
       "      <th>Total Bags</th>\n",
       "      <th>Small Bags</th>\n",
       "      <th>Large Bags</th>\n",
       "      <th>XLarge Bags</th>\n",
       "      <th>year</th>\n",
       "    </tr>\n",
       "  </thead>\n",
       "  <tbody>\n",
       "    <tr>\n",
       "      <th>count</th>\n",
       "      <td>14599.000000</td>\n",
       "      <td>14599.000000</td>\n",
       "      <td>1.459900e+04</td>\n",
       "      <td>1.459900e+04</td>\n",
       "      <td>1.459900e+04</td>\n",
       "      <td>1.459900e+04</td>\n",
       "      <td>1.459900e+04</td>\n",
       "      <td>1.459900e+04</td>\n",
       "      <td>1.459900e+04</td>\n",
       "      <td>14599.000000</td>\n",
       "      <td>14599.000000</td>\n",
       "    </tr>\n",
       "    <tr>\n",
       "      <th>mean</th>\n",
       "      <td>9116.120899</td>\n",
       "      <td>1.409168</td>\n",
       "      <td>8.136614e+05</td>\n",
       "      <td>2.787616e+05</td>\n",
       "      <td>2.835157e+05</td>\n",
       "      <td>2.175564e+04</td>\n",
       "      <td>2.296264e+05</td>\n",
       "      <td>1.746354e+05</td>\n",
       "      <td>5.199545e+04</td>\n",
       "      <td>2995.622236</td>\n",
       "      <td>2016.146174</td>\n",
       "    </tr>\n",
       "    <tr>\n",
       "      <th>std</th>\n",
       "      <td>5279.989902</td>\n",
       "      <td>0.404518</td>\n",
       "      <td>3.292013e+06</td>\n",
       "      <td>1.206792e+06</td>\n",
       "      <td>1.150215e+06</td>\n",
       "      <td>1.025608e+05</td>\n",
       "      <td>9.429775e+05</td>\n",
       "      <td>7.139212e+05</td>\n",
       "      <td>2.343441e+05</td>\n",
       "      <td>17313.445157</td>\n",
       "      <td>0.937565</td>\n",
       "    </tr>\n",
       "    <tr>\n",
       "      <th>min</th>\n",
       "      <td>2.000000</td>\n",
       "      <td>0.440000</td>\n",
       "      <td>3.855500e+02</td>\n",
       "      <td>0.000000e+00</td>\n",
       "      <td>0.000000e+00</td>\n",
       "      <td>0.000000e+00</td>\n",
       "      <td>0.000000e+00</td>\n",
       "      <td>0.000000e+00</td>\n",
       "      <td>0.000000e+00</td>\n",
       "      <td>0.000000</td>\n",
       "      <td>2015.000000</td>\n",
       "    </tr>\n",
       "    <tr>\n",
       "      <th>25%</th>\n",
       "      <td>4538.500000</td>\n",
       "      <td>1.100000</td>\n",
       "      <td>1.080823e+04</td>\n",
       "      <td>8.493600e+02</td>\n",
       "      <td>3.018255e+03</td>\n",
       "      <td>0.000000e+00</td>\n",
       "      <td>5.040900e+03</td>\n",
       "      <td>2.828890e+03</td>\n",
       "      <td>1.314550e+02</td>\n",
       "      <td>0.000000</td>\n",
       "      <td>2015.000000</td>\n",
       "    </tr>\n",
       "    <tr>\n",
       "      <th>50%</th>\n",
       "      <td>9125.000000</td>\n",
       "      <td>1.370000</td>\n",
       "      <td>1.070186e+05</td>\n",
       "      <td>8.425390e+03</td>\n",
       "      <td>2.890747e+04</td>\n",
       "      <td>1.807200e+02</td>\n",
       "      <td>3.960296e+04</td>\n",
       "      <td>2.631176e+04</td>\n",
       "      <td>2.621750e+03</td>\n",
       "      <td>0.000000</td>\n",
       "      <td>2016.000000</td>\n",
       "    </tr>\n",
       "    <tr>\n",
       "      <th>75%</th>\n",
       "      <td>13698.500000</td>\n",
       "      <td>1.670000</td>\n",
       "      <td>4.261702e+05</td>\n",
       "      <td>1.087822e+05</td>\n",
       "      <td>1.451605e+05</td>\n",
       "      <td>6.136665e+03</td>\n",
       "      <td>1.096453e+05</td>\n",
       "      <td>8.300046e+04</td>\n",
       "      <td>2.151112e+04</td>\n",
       "      <td>127.940000</td>\n",
       "      <td>2017.000000</td>\n",
       "    </tr>\n",
       "    <tr>\n",
       "      <th>max</th>\n",
       "      <td>18249.000000</td>\n",
       "      <td>3.250000</td>\n",
       "      <td>6.250565e+07</td>\n",
       "      <td>2.162018e+07</td>\n",
       "      <td>2.047057e+07</td>\n",
       "      <td>2.546439e+06</td>\n",
       "      <td>1.937313e+07</td>\n",
       "      <td>1.338459e+07</td>\n",
       "      <td>5.719097e+06</td>\n",
       "      <td>551693.650000</td>\n",
       "      <td>2018.000000</td>\n",
       "    </tr>\n",
       "  </tbody>\n",
       "</table>\n",
       "</div>"
      ],
      "text/plain": [
       "                 Id  AveragePrice  Total Volume          4046          4225  \\\n",
       "count  14599.000000  14599.000000  1.459900e+04  1.459900e+04  1.459900e+04   \n",
       "mean    9116.120899      1.409168  8.136614e+05  2.787616e+05  2.835157e+05   \n",
       "std     5279.989902      0.404518  3.292013e+06  1.206792e+06  1.150215e+06   \n",
       "min        2.000000      0.440000  3.855500e+02  0.000000e+00  0.000000e+00   \n",
       "25%     4538.500000      1.100000  1.080823e+04  8.493600e+02  3.018255e+03   \n",
       "50%     9125.000000      1.370000  1.070186e+05  8.425390e+03  2.890747e+04   \n",
       "75%    13698.500000      1.670000  4.261702e+05  1.087822e+05  1.451605e+05   \n",
       "max    18249.000000      3.250000  6.250565e+07  2.162018e+07  2.047057e+07   \n",
       "\n",
       "               4770    Total Bags    Small Bags    Large Bags    XLarge Bags  \\\n",
       "count  1.459900e+04  1.459900e+04  1.459900e+04  1.459900e+04   14599.000000   \n",
       "mean   2.175564e+04  2.296264e+05  1.746354e+05  5.199545e+04    2995.622236   \n",
       "std    1.025608e+05  9.429775e+05  7.139212e+05  2.343441e+05   17313.445157   \n",
       "min    0.000000e+00  0.000000e+00  0.000000e+00  0.000000e+00       0.000000   \n",
       "25%    0.000000e+00  5.040900e+03  2.828890e+03  1.314550e+02       0.000000   \n",
       "50%    1.807200e+02  3.960296e+04  2.631176e+04  2.621750e+03       0.000000   \n",
       "75%    6.136665e+03  1.096453e+05  8.300046e+04  2.151112e+04     127.940000   \n",
       "max    2.546439e+06  1.937313e+07  1.338459e+07  5.719097e+06  551693.650000   \n",
       "\n",
       "               year  \n",
       "count  14599.000000  \n",
       "mean    2016.146174  \n",
       "std        0.937565  \n",
       "min     2015.000000  \n",
       "25%     2015.000000  \n",
       "50%     2016.000000  \n",
       "75%     2017.000000  \n",
       "max     2018.000000  "
      ]
     },
     "execution_count": 9,
     "metadata": {},
     "output_type": "execute_result"
    }
   ],
   "source": [
    "train_data.describe()                                       "
   ]
  },
  {
   "cell_type": "markdown",
   "metadata": {
    "colab_type": "text",
    "id": "lM-hljKpqXsp"
   },
   "source": [
    "### **Data Information**"
   ]
  },
  {
   "cell_type": "code",
   "execution_count": 10,
   "metadata": {
    "colab": {},
    "colab_type": "code",
    "id": "aPYZy6voqXc4"
   },
   "outputs": [
    {
     "name": "stdout",
     "output_type": "stream",
     "text": [
      "<class 'pandas.core.frame.DataFrame'>\n",
      "RangeIndex: 14599 entries, 0 to 14598\n",
      "Data columns (total 14 columns):\n",
      " #   Column        Non-Null Count  Dtype         \n",
      "---  ------        --------------  -----         \n",
      " 0   Id            14599 non-null  int64         \n",
      " 1   Date          14599 non-null  datetime64[ns]\n",
      " 2   AveragePrice  14599 non-null  float64       \n",
      " 3   Total Volume  14599 non-null  float64       \n",
      " 4   4046          14599 non-null  float64       \n",
      " 5   4225          14599 non-null  float64       \n",
      " 6   4770          14599 non-null  float64       \n",
      " 7   Total Bags    14599 non-null  float64       \n",
      " 8   Small Bags    14599 non-null  float64       \n",
      " 9   Large Bags    14599 non-null  float64       \n",
      " 10  XLarge Bags   14599 non-null  float64       \n",
      " 11  type          14599 non-null  object        \n",
      " 12  year          14599 non-null  int64         \n",
      " 13  region        14599 non-null  object        \n",
      "dtypes: datetime64[ns](1), float64(9), int64(2), object(2)\n",
      "memory usage: 1.6+ MB\n"
     ]
    }
   ],
   "source": [
    "train_data.info()                                          "
   ]
  },
  {
   "cell_type": "code",
   "execution_count": 11,
   "metadata": {},
   "outputs": [
    {
     "data": {
      "text/plain": [
       "Id              0\n",
       "Date            0\n",
       "AveragePrice    0\n",
       "Total Volume    0\n",
       "4046            0\n",
       "4225            0\n",
       "4770            0\n",
       "Total Bags      0\n",
       "Small Bags      0\n",
       "Large Bags      0\n",
       "XLarge Bags     0\n",
       "type            0\n",
       "year            0\n",
       "region          0\n",
       "dtype: int64"
      ]
     },
     "execution_count": 11,
     "metadata": {},
     "output_type": "execute_result"
    }
   ],
   "source": [
    "train_data.isnull().sum()"
   ]
  },
  {
   "cell_type": "code",
   "execution_count": 12,
   "metadata": {},
   "outputs": [
    {
     "data": {
      "text/plain": [
       "Index(['Id', 'Date', 'AveragePrice', 'Total Volume', '4046', '4225', '4770',\n",
       "       'Total Bags', 'Small Bags', 'Large Bags', 'XLarge Bags', 'type', 'year',\n",
       "       'region'],\n",
       "      dtype='object')"
      ]
     },
     "execution_count": 12,
     "metadata": {},
     "output_type": "execute_result"
    }
   ],
   "source": [
    "train_data.columns"
   ]
  },
  {
   "cell_type": "markdown",
   "metadata": {},
   "source": [
    "**Observation:**\n",
    "- There are no missing values in the dataset.\n",
    "- There are 11 variables with numeric values.\n",
    "- There are 14599 records with 14 columns in the dataset.\n",
    "- Date variable is object and need to convert to datetime.\n",
    "- Id is the unique variable.\n",
    "- There are 54 region in the dataset."
   ]
  },
  {
   "cell_type": "markdown",
   "metadata": {
    "colab_type": "text",
    "id": "efZ8svauqc55"
   },
   "source": [
    "---\n",
    "<a name = Section5></a>\n",
    "# **5. Data Pre-Profiling**\n",
    "---\n",
    "\n",
    "- This section is emphasised on getting a report about the data.\n",
    "\n",
    "- You need to perform pandas profiling and get some observations out of it..."
   ]
  },
  {
   "cell_type": "code",
   "execution_count": 13,
   "metadata": {
    "colab": {},
    "colab_type": "code",
    "id": "VEHxAq8Zqcgo"
   },
   "outputs": [],
   "source": [
    "# profile = ProfileReport(df = data)\n",
    "# profile.to_file(outputfile = 'Pre Profiling Report.html')\n",
    "# print('Accomplished!')"
   ]
  },
  {
   "cell_type": "markdown",
   "metadata": {
    "colab_type": "text",
    "id": "YMvtK0X-qoe6"
   },
   "source": []
  },
  {
   "cell_type": "code",
   "execution_count": 14,
   "metadata": {
    "colab": {},
    "colab_type": "code",
    "id": "FxzbSzWDqytZ"
   },
   "outputs": [],
   "source": [
    "# Insert your code here..."
   ]
  },
  {
   "cell_type": "markdown",
   "metadata": {
    "colab_type": "text",
    "id": "amsQwri2q1_J"
   },
   "source": []
  },
  {
   "cell_type": "markdown",
   "metadata": {
    "colab_type": "text",
    "id": "taDvvLa9q-5p"
   },
   "source": [
    "---\n",
    "<a name = Section8></a>\n",
    "# **6. Exploratory Data Analysis**\n",
    "---\n",
    "\n",
    "- This section is emphasised on asking the right questions and perform analysis using the data.\n",
    "\n",
    "- Note that there is no limit how deep you can go, but make sure not to get distracted from right track."
   ]
  },
  {
   "cell_type": "code",
   "execution_count": 15,
   "metadata": {
    "colab": {},
    "colab_type": "code",
    "id": "fwWa_FPerGCB"
   },
   "outputs": [],
   "source": [
    "#Understanding the entire train data using a pair plot\n",
    "    "
   ]
  },
  {
   "cell_type": "markdown",
   "metadata": {},
   "source": [
    "**Which type of Avocados are more in demand?**"
   ]
  },
  {
   "cell_type": "code",
   "execution_count": 16,
   "metadata": {},
   "outputs": [
    {
     "data": {
      "text/plain": [
       "<seaborn.axisgrid.FacetGrid at 0x1e22e216b20>"
      ]
     },
     "execution_count": 16,
     "metadata": {},
     "output_type": "execute_result"
    },
    {
     "data": {
      "image/png": "[encoded data removed]",
      "text/plain": [
       "<Figure size 432x432 with 1 Axes>"
      ]
     },
     "metadata": {
      "needs_background": "light"
     },
     "output_type": "display_data"
    }
   ],
   "source": [
    "sns.catplot(x=\"type\", kind=\"count\", palette=\"ch:.25\",data=train_data, height=6)"
   ]
  },
  {
   "cell_type": "code",
   "execution_count": 17,
   "metadata": {},
   "outputs": [
    {
     "data": {
      "text/plain": [
       "conventional    7301\n",
       "organic         7298\n",
       "Name: type, dtype: int64"
      ]
     },
     "execution_count": 17,
     "metadata": {},
     "output_type": "execute_result"
    }
   ],
   "source": [
    "train_data[\"type\"].value_counts()"
   ]
  },
  {
   "cell_type": "markdown",
   "metadata": {},
   "source": [
    "Both type of Avocado are in equal demand."
   ]
  },
  {
   "cell_type": "markdown",
   "metadata": {},
   "source": [
    "**Year of observation**"
   ]
  },
  {
   "cell_type": "code",
   "execution_count": 18,
   "metadata": {},
   "outputs": [
    {
     "data": {
      "text/plain": [
       "<seaborn.axisgrid.FacetGrid at 0x1e235aadd60>"
      ]
     },
     "execution_count": 18,
     "metadata": {},
     "output_type": "execute_result"
    },
    {
     "data": {
      "image/png": "[encoded data removed]",
      "text/plain": [
       "<Figure size 432x432 with 1 Axes>"
      ]
     },
     "metadata": {
      "needs_background": "light"
     },
     "output_type": "display_data"
    }
   ],
   "source": [
    "sns.catplot(x=\"year\", kind=\"count\", palette=\"ch:.25\",data=train_data, height=6)"
   ]
  },
  {
   "cell_type": "code",
   "execution_count": 19,
   "metadata": {},
   "outputs": [
    {
     "data": {
      "text/plain": [
       "2017    4585\n",
       "2016    4509\n",
       "2015    4487\n",
       "2018    1018\n",
       "Name: year, dtype: int64"
      ]
     },
     "execution_count": 19,
     "metadata": {},
     "output_type": "execute_result"
    }
   ],
   "source": [
    "train_data[\"year\"].value_counts()"
   ]
  },
  {
   "cell_type": "markdown",
   "metadata": {},
   "source": [
    "2017 records the highest and 2018 is the lowest"
   ]
  },
  {
   "cell_type": "markdown",
   "metadata": {},
   "source": [
    "**In which range Average price lies?**"
   ]
  },
  {
   "cell_type": "code",
   "execution_count": 20,
   "metadata": {},
   "outputs": [
    {
     "data": {
      "image/png": "[encoded data removed]",
      "text/plain": [
       "<Figure size 1080x504 with 1 Axes>"
      ]
     },
     "metadata": {
      "needs_background": "light"
     },
     "output_type": "display_data"
    }
   ],
   "source": [
    "# Initialize figure of size 15 X 7\n",
    "fig = plt.figure(figsize=(15, 7))\n",
    "\n",
    "# Plot density distribution of age\n",
    "sns.distplot(a=train_data['AveragePrice'], kde=True)\n",
    "\n",
    "# Add some cosmetics\n",
    "plt.title(label='Distribution of Average Price', size=16)\n",
    "plt.xlabel(xlabel='AveragePrice', size=14)\n",
    "##plt.ylabel(ylabel='gender', size=14)\n",
    "plt.xticks(size=12)\n",
    "plt.yticks(size=12)\n",
    "plt.grid(b=True)\n",
    "\n",
    "# Display the plot\n",
    "plt.show()"
   ]
  },
  {
   "cell_type": "markdown",
   "metadata": {},
   "source": [
    "Average Price distribution shows that for most cases price of avocado is between 1.2, 1.4.\n"
   ]
  },
  {
   "cell_type": "markdown",
   "metadata": {},
   "source": [
    "**Average Price distribution based on region.**"
   ]
  },
  {
   "cell_type": "code",
   "execution_count": 21,
   "metadata": {},
   "outputs": [
    {
     "data": {
      "text/plain": [
       "54"
      ]
     },
     "execution_count": 21,
     "metadata": {},
     "output_type": "execute_result"
    }
   ],
   "source": [
    "train_data['region'].nunique()"
   ]
  },
  {
   "cell_type": "code",
   "execution_count": 22,
   "metadata": {},
   "outputs": [
    {
     "data": {
      "text/plain": [
       "Text(0.5, 1.0, 'Average Price of Avocado According to Region')"
      ]
     },
     "execution_count": 22,
     "metadata": {},
     "output_type": "execute_result"
    },
    {
     "data": {
      "image/png": "[encoded data removed]",
      "text/plain": [
       "<Figure size 1728x720 with 1 Axes>"
      ]
     },
     "metadata": {
      "needs_background": "light"
     },
     "output_type": "display_data"
    }
   ],
   "source": [
    "plt.figure(figsize=(24,10))\n",
    "ax=sns.barplot(x='region',y='AveragePrice', data = train_data)\n",
    "\n",
    "plt.xticks(rotation=90)\n",
    "plt.xlabel('Region')\n",
    "plt.ylabel('Average Price')\n",
    "plt.title('Average Price of Avocado According to Region')"
   ]
  },
  {
   "cell_type": "markdown",
   "metadata": {},
   "source": [
    "**Average Total Volume based on Region**"
   ]
  },
  {
   "cell_type": "code",
   "execution_count": 23,
   "metadata": {},
   "outputs": [
    {
     "data": {
      "text/plain": [
       "Text(0.5, 1.0, 'Average Total Volume of Avocado According to Region')"
      ]
     },
     "execution_count": 23,
     "metadata": {},
     "output_type": "execute_result"
    },
    {
     "data": {
      "image/png": "[encoded data removed]",
      "text/plain": [
       "<Figure size 1728x720 with 1 Axes>"
      ]
     },
     "metadata": {
      "needs_background": "light"
     },
     "output_type": "display_data"
    }
   ],
   "source": [
    "plt.figure(figsize=(24,10))\n",
    "ax=sns.barplot(x='region',y='Total Volume', data = train_data)\n",
    "\n",
    "plt.xticks(rotation=90)\n",
    "plt.xlabel('Region')\n",
    "plt.ylabel('Total Volume')\n",
    "plt.title('Average Total Volume of Avocado According to Region')"
   ]
  },
  {
   "cell_type": "markdown",
   "metadata": {},
   "source": [
    "**Price Distribution based on date column**"
   ]
  },
  {
   "cell_type": "code",
   "execution_count": 24,
   "metadata": {},
   "outputs": [
    {
     "data": {
      "text/plain": [
       "Text(0.5, 1.0, 'Average Price')"
      ]
     },
     "execution_count": 24,
     "metadata": {},
     "output_type": "execute_result"
    },
    {
     "data": {
      "image/png": "[encoded data removed]",
      "text/plain": [
       "<Figure size 1440x576 with 1 Axes>"
      ]
     },
     "metadata": {
      "needs_background": "light"
     },
     "output_type": "display_data"
    }
   ],
   "source": [
    "byDate=train_data.groupby('Date').mean()\n",
    "plt.figure(figsize=(20,8))\n",
    "byDate['AveragePrice'].plot()\n",
    "plt.title('Average Price')"
   ]
  },
  {
   "cell_type": "markdown",
   "metadata": {},
   "source": [
    "**Data Showing corelation with each other**"
   ]
  },
  {
   "cell_type": "code",
   "execution_count": 25,
   "metadata": {},
   "outputs": [
    {
     "data": {
      "image/png": "[encoded data removed]",
      "text/plain": [
       "<Figure size 864x576 with 2 Axes>"
      ]
     },
     "metadata": {
      "needs_background": "light"
     },
     "output_type": "display_data"
    }
   ],
   "source": [
    "plt.figure(figsize=(12,8))\n",
    "sns.heatmap(train_data.corr(),annot=True)\n",
    "plt.show()"
   ]
  },
  {
   "cell_type": "code",
   "execution_count": 26,
   "metadata": {},
   "outputs": [],
   "source": [
    "train_data_final = pd.get_dummies(train_data.drop(['region','Date'],axis=1),drop_first=True)\n"
   ]
  },
  {
   "cell_type": "code",
   "execution_count": 27,
   "metadata": {},
   "outputs": [
    {
     "data": {
      "text/html": [
       "<div>\n",
       "<style scoped>\n",
       "    .dataframe tbody tr th:only-of-type {\n",
       "        vertical-align: middle;\n",
       "    }\n",
       "\n",
       "    .dataframe tbody tr th {\n",
       "        vertical-align: top;\n",
       "    }\n",
       "\n",
       "    .dataframe thead th {\n",
       "        text-align: right;\n",
       "    }\n",
       "</style>\n",
       "<table border=\"1\" class=\"dataframe\">\n",
       "  <thead>\n",
       "    <tr style=\"text-align: right;\">\n",
       "      <th></th>\n",
       "      <th>Id</th>\n",
       "      <th>AveragePrice</th>\n",
       "      <th>Total Volume</th>\n",
       "      <th>4046</th>\n",
       "      <th>4225</th>\n",
       "      <th>4770</th>\n",
       "      <th>Total Bags</th>\n",
       "      <th>Small Bags</th>\n",
       "      <th>Large Bags</th>\n",
       "      <th>XLarge Bags</th>\n",
       "      <th>year</th>\n",
       "      <th>type_organic</th>\n",
       "    </tr>\n",
       "  </thead>\n",
       "  <tbody>\n",
       "    <tr>\n",
       "      <th>0</th>\n",
       "      <td>14761</td>\n",
       "      <td>1.86</td>\n",
       "      <td>2584.08</td>\n",
       "      <td>61.21</td>\n",
       "      <td>143.82</td>\n",
       "      <td>0.00</td>\n",
       "      <td>2379.05</td>\n",
       "      <td>2379.05</td>\n",
       "      <td>0.00</td>\n",
       "      <td>0.00</td>\n",
       "      <td>2017</td>\n",
       "      <td>1</td>\n",
       "    </tr>\n",
       "    <tr>\n",
       "      <th>1</th>\n",
       "      <td>6843</td>\n",
       "      <td>1.14</td>\n",
       "      <td>100811.00</td>\n",
       "      <td>3181.00</td>\n",
       "      <td>43510.00</td>\n",
       "      <td>86.00</td>\n",
       "      <td>54034.00</td>\n",
       "      <td>11788.00</td>\n",
       "      <td>42246.00</td>\n",
       "      <td>0.00</td>\n",
       "      <td>2017</td>\n",
       "      <td>0</td>\n",
       "    </tr>\n",
       "    <tr>\n",
       "      <th>2</th>\n",
       "      <td>7306</td>\n",
       "      <td>0.95</td>\n",
       "      <td>430096.94</td>\n",
       "      <td>242212.80</td>\n",
       "      <td>81697.52</td>\n",
       "      <td>264.25</td>\n",
       "      <td>105922.37</td>\n",
       "      <td>48557.37</td>\n",
       "      <td>57365.00</td>\n",
       "      <td>0.00</td>\n",
       "      <td>2017</td>\n",
       "      <td>0</td>\n",
       "    </tr>\n",
       "    <tr>\n",
       "      <th>3</th>\n",
       "      <td>12329</td>\n",
       "      <td>1.71</td>\n",
       "      <td>5433.16</td>\n",
       "      <td>437.48</td>\n",
       "      <td>2422.71</td>\n",
       "      <td>544.63</td>\n",
       "      <td>2028.34</td>\n",
       "      <td>2021.67</td>\n",
       "      <td>6.67</td>\n",
       "      <td>0.00</td>\n",
       "      <td>2016</td>\n",
       "      <td>1</td>\n",
       "    </tr>\n",
       "    <tr>\n",
       "      <th>4</th>\n",
       "      <td>12036</td>\n",
       "      <td>1.66</td>\n",
       "      <td>5614.09</td>\n",
       "      <td>2123.47</td>\n",
       "      <td>2121.26</td>\n",
       "      <td>0.00</td>\n",
       "      <td>1369.36</td>\n",
       "      <td>392.02</td>\n",
       "      <td>977.34</td>\n",
       "      <td>0.00</td>\n",
       "      <td>2016</td>\n",
       "      <td>1</td>\n",
       "    </tr>\n",
       "    <tr>\n",
       "      <th>5</th>\n",
       "      <td>7994</td>\n",
       "      <td>1.14</td>\n",
       "      <td>331446.60</td>\n",
       "      <td>150107.10</td>\n",
       "      <td>76620.67</td>\n",
       "      <td>2862.33</td>\n",
       "      <td>101856.50</td>\n",
       "      <td>78346.11</td>\n",
       "      <td>22320.39</td>\n",
       "      <td>1190.00</td>\n",
       "      <td>2017</td>\n",
       "      <td>0</td>\n",
       "    </tr>\n",
       "    <tr>\n",
       "      <th>6</th>\n",
       "      <td>6904</td>\n",
       "      <td>1.84</td>\n",
       "      <td>409206.24</td>\n",
       "      <td>278164.17</td>\n",
       "      <td>53156.30</td>\n",
       "      <td>50.37</td>\n",
       "      <td>77835.40</td>\n",
       "      <td>16642.51</td>\n",
       "      <td>61152.89</td>\n",
       "      <td>40.00</td>\n",
       "      <td>2017</td>\n",
       "      <td>0</td>\n",
       "    </tr>\n",
       "    <tr>\n",
       "      <th>7</th>\n",
       "      <td>3235</td>\n",
       "      <td>1.80</td>\n",
       "      <td>523682.50</td>\n",
       "      <td>52200.02</td>\n",
       "      <td>324240.53</td>\n",
       "      <td>75841.97</td>\n",
       "      <td>71399.98</td>\n",
       "      <td>61522.13</td>\n",
       "      <td>1047.85</td>\n",
       "      <td>8830.00</td>\n",
       "      <td>2016</td>\n",
       "      <td>0</td>\n",
       "    </tr>\n",
       "    <tr>\n",
       "      <th>8</th>\n",
       "      <td>522</td>\n",
       "      <td>1.03</td>\n",
       "      <td>117393.22</td>\n",
       "      <td>57557.75</td>\n",
       "      <td>23198.49</td>\n",
       "      <td>16370.50</td>\n",
       "      <td>20266.48</td>\n",
       "      <td>11760.83</td>\n",
       "      <td>4248.29</td>\n",
       "      <td>4257.36</td>\n",
       "      <td>2015</td>\n",
       "      <td>0</td>\n",
       "    </tr>\n",
       "    <tr>\n",
       "      <th>9</th>\n",
       "      <td>944</td>\n",
       "      <td>0.75</td>\n",
       "      <td>983909.85</td>\n",
       "      <td>427828.16</td>\n",
       "      <td>411365.91</td>\n",
       "      <td>20404.29</td>\n",
       "      <td>124311.49</td>\n",
       "      <td>56573.89</td>\n",
       "      <td>67737.60</td>\n",
       "      <td>0.00</td>\n",
       "      <td>2015</td>\n",
       "      <td>0</td>\n",
       "    </tr>\n",
       "  </tbody>\n",
       "</table>\n",
       "</div>"
      ],
      "text/plain": [
       "      Id  AveragePrice  Total Volume       4046       4225      4770  \\\n",
       "0  14761          1.86       2584.08      61.21     143.82      0.00   \n",
       "1   6843          1.14     100811.00    3181.00   43510.00     86.00   \n",
       "2   7306          0.95     430096.94  242212.80   81697.52    264.25   \n",
       "3  12329          1.71       5433.16     437.48    2422.71    544.63   \n",
       "4  12036          1.66       5614.09    2123.47    2121.26      0.00   \n",
       "5   7994          1.14     331446.60  150107.10   76620.67   2862.33   \n",
       "6   6904          1.84     409206.24  278164.17   53156.30     50.37   \n",
       "7   3235          1.80     523682.50   52200.02  324240.53  75841.97   \n",
       "8    522          1.03     117393.22   57557.75   23198.49  16370.50   \n",
       "9    944          0.75     983909.85  427828.16  411365.91  20404.29   \n",
       "\n",
       "   Total Bags  Small Bags  Large Bags  XLarge Bags  year  type_organic  \n",
       "0     2379.05     2379.05        0.00         0.00  2017             1  \n",
       "1    54034.00    11788.00    42246.00         0.00  2017             0  \n",
       "2   105922.37    48557.37    57365.00         0.00  2017             0  \n",
       "3     2028.34     2021.67        6.67         0.00  2016             1  \n",
       "4     1369.36      392.02      977.34         0.00  2016             1  \n",
       "5   101856.50    78346.11    22320.39      1190.00  2017             0  \n",
       "6    77835.40    16642.51    61152.89        40.00  2017             0  \n",
       "7    71399.98    61522.13     1047.85      8830.00  2016             0  \n",
       "8    20266.48    11760.83     4248.29      4257.36  2015             0  \n",
       "9   124311.49    56573.89    67737.60         0.00  2015             0  "
      ]
     },
     "execution_count": 27,
     "metadata": {},
     "output_type": "execute_result"
    }
   ],
   "source": [
    "train_data_final.head(10)"
   ]
  },
  {
   "cell_type": "markdown",
   "metadata": {},
   "source": [
    "---\n",
    "<a name = Section7></a>\n",
    "# **7. Building a Model**"
   ]
  },
  {
   "cell_type": "markdown",
   "metadata": {},
   "source": [
    "**Since the target variable is continous, we will apply linear regression**"
   ]
  },
  {
   "cell_type": "code",
   "execution_count": 28,
   "metadata": {},
   "outputs": [],
   "source": [
    "#Splitting the train data set into training and testing.\n",
    "\n",
    "X = train_data_final.drop(columns = \"AveragePrice\", axis = 1)\n",
    "y = train_data[\"AveragePrice\"]"
   ]
  },
  {
   "cell_type": "markdown",
   "metadata": {},
   "source": [
    " - **Splitting 80/20 ratio**"
   ]
  },
  {
   "cell_type": "code",
   "execution_count": 29,
   "metadata": {},
   "outputs": [],
   "source": [
    " X_train, X_test, y_train, y_test = train_test_split(X, y, test_size=0.20, random_state=42)"
   ]
  },
  {
   "cell_type": "code",
   "execution_count": 30,
   "metadata": {},
   "outputs": [
    {
     "name": "stdout",
     "output_type": "stream",
     "text": [
      "(14599, 11) (11679, 11) (2920, 11)\n"
     ]
    }
   ],
   "source": [
    "print(X.shape, X_train.shape, X_test.shape)"
   ]
  },
  {
   "cell_type": "code",
   "execution_count": 31,
   "metadata": {},
   "outputs": [],
   "source": [
    "#Using Linear Regression\n",
    "linreg = LinearRegression()\n"
   ]
  },
  {
   "cell_type": "code",
   "execution_count": 32,
   "metadata": {},
   "outputs": [
    {
     "data": {
      "text/plain": [
       "LinearRegression()"
      ]
     },
     "execution_count": 32,
     "metadata": {},
     "output_type": "execute_result"
    }
   ],
   "source": [
    "linreg.fit(X_train, y_train) "
   ]
  },
  {
   "cell_type": "code",
   "execution_count": 57,
   "metadata": {},
   "outputs": [],
   "source": [
    "# Prediction on training data\n",
    "train_data_predict1 = linreg.predict(X_train)"
   ]
  },
  {
   "cell_type": "code",
   "execution_count": 58,
   "metadata": {},
   "outputs": [
    {
     "name": "stdout",
     "output_type": "stream",
     "text": [
      "R Squared Value: 0.4065121720867332\n"
     ]
    }
   ],
   "source": [
    "#Finding the R2\n",
    "r2_train = metrics.r2_score(y_train,train_data_predict1)\n",
    "print(\"R Squared Value:\", r2_train)"
   ]
  },
  {
   "cell_type": "code",
   "execution_count": 59,
   "metadata": {},
   "outputs": [],
   "source": [
    "#Prediction on testing data\n",
    "test_data_predict1 = linreg.predict(X_test)"
   ]
  },
  {
   "cell_type": "code",
   "execution_count": 60,
   "metadata": {},
   "outputs": [
    {
     "name": "stdout",
     "output_type": "stream",
     "text": [
      "R Squared Value: 0.41851105337252215\n"
     ]
    }
   ],
   "source": [
    "#Finding the R2\n",
    "r2_test = metrics.r2_score(y_test,test_data_predict1)\n",
    "print(\"R Squared Value:\", r2_test)"
   ]
  },
  {
   "cell_type": "code",
   "execution_count": 61,
   "metadata": {},
   "outputs": [
    {
     "name": "stdout",
     "output_type": "stream",
     "text": [
      "MAE: 0.2398772082391906\n",
      "MSE: 0.09742061904739086\n",
      "RMSE: 0.3121227627831569\n"
     ]
    }
   ],
   "source": [
    "from sklearn import metrics\n",
    "print('MAE:', metrics.mean_absolute_error(y_train, train_data_predict1))\n",
    "print('MSE:', metrics.mean_squared_error(y_train, train_data_predict1))\n",
    "print('RMSE:', np.sqrt(metrics.mean_squared_error(y_train, train_data_predict1)))"
   ]
  },
  {
   "cell_type": "code",
   "execution_count": 62,
   "metadata": {},
   "outputs": [
    {
     "name": "stdout",
     "output_type": "stream",
     "text": [
      "MAE: 0.23409451067113551\n",
      "MSE: 0.09381279197792229\n",
      "RMSE: 0.306288739554562\n"
     ]
    }
   ],
   "source": [
    "print('MAE:', metrics.mean_absolute_error(y_test, test_data_predict1))\n",
    "print('MSE:', metrics.mean_squared_error(y_test, test_data_predict1))\n",
    "print('RMSE:', np.sqrt(metrics.mean_squared_error(y_test, test_data_predict1)))"
   ]
  },
  {
   "cell_type": "code",
   "execution_count": 64,
   "metadata": {},
   "outputs": [
    {
     "data": {
      "text/plain": [
       "<matplotlib.collections.PathCollection at 0x1e2375dcc70>"
      ]
     },
     "execution_count": 64,
     "metadata": {},
     "output_type": "execute_result"
    },
    {
     "data": {
      "image/png": "[encoded data removed]",
      "text/plain": [
       "<Figure size 432x288 with 1 Axes>"
      ]
     },
     "metadata": {
      "needs_background": "light"
     },
     "output_type": "display_data"
    }
   ],
   "source": [
    "plt.scatter(x=y_test,y=test_data_predict1)\n"
   ]
  },
  {
   "cell_type": "markdown",
   "metadata": {},
   "source": [
    "**As we can see that there is no straight line so it is not a best model we can apply on our data.**"
   ]
  },
  {
   "cell_type": "markdown",
   "metadata": {},
   "source": [
    "**2. Decision Tree**"
   ]
  },
  {
   "cell_type": "code",
   "execution_count": 65,
   "metadata": {},
   "outputs": [],
   "source": [
    "from sklearn.tree import DecisionTreeRegressor\n",
    "dectree=DecisionTreeRegressor()\n",
    "dectree.fit(X_train,y_train)\n",
    "test_data_predict2=dectree.predict(X_test)"
   ]
  },
  {
   "cell_type": "code",
   "execution_count": 66,
   "metadata": {},
   "outputs": [],
   "source": [
    "train_data_predict2 = dectree.predict(X_train)"
   ]
  },
  {
   "cell_type": "code",
   "execution_count": 67,
   "metadata": {},
   "outputs": [
    {
     "data": {
      "text/plain": [
       "Text(0, 0.5, 'Predicted Y')"
      ]
     },
     "execution_count": 67,
     "metadata": {},
     "output_type": "execute_result"
    },
    {
     "data": {
      "image/png": "[encoded data removed]",
      "text/plain": [
       "<Figure size 432x288 with 1 Axes>"
      ]
     },
     "metadata": {
      "needs_background": "light"
     },
     "output_type": "display_data"
    }
   ],
   "source": [
    "plt.scatter(x=y_test,y=test_data_predict2)\n",
    "plt.xlabel('Y Test')\n",
    "plt.ylabel('Predicted Y')"
   ]
  },
  {
   "cell_type": "code",
   "execution_count": 68,
   "metadata": {},
   "outputs": [
    {
     "name": "stdout",
     "output_type": "stream",
     "text": [
      "MAE: 0.13856164383561642\n",
      "MSE: 0.045473493150684934\n",
      "RMSE: 0.21324514801205896\n"
     ]
    }
   ],
   "source": [
    "#Checking RMSE for Decision tree Algorithm\n",
    "#For testing data\n",
    "print('MAE:', metrics.mean_absolute_error(y_test, test_data_predict2))\n",
    "print('MSE:', metrics.mean_squared_error(y_test, test_data_predict2))\n",
    "print('RMSE:', np.sqrt(metrics.mean_squared_error(y_test, test_data_predict2)))"
   ]
  },
  {
   "cell_type": "code",
   "execution_count": 69,
   "metadata": {},
   "outputs": [
    {
     "name": "stdout",
     "output_type": "stream",
     "text": [
      "MAE: 3.9925821589396843e-19\n",
      "MSE: 8.232076618187414e-35\n",
      "RMSE: 9.073079200683423e-18\n"
     ]
    }
   ],
   "source": [
    "#For training data\n",
    "print('MAE:', metrics.mean_absolute_error(y_train, train_data_predict2))\n",
    "print('MSE:', metrics.mean_squared_error(y_train, train_data_predict2))\n",
    "print('RMSE:', np.sqrt(metrics.mean_squared_error(y_train, train_data_predict2)))"
   ]
  },
  {
   "cell_type": "markdown",
   "metadata": {},
   "source": [
    "**3. Random forest**"
   ]
  },
  {
   "cell_type": "code",
   "execution_count": 70,
   "metadata": {},
   "outputs": [],
   "source": [
    "from sklearn.ensemble import RandomForestRegressor\n",
    "randomforest = RandomForestRegressor()\n",
    "randomforest.fit(X_train,y_train)\n",
    "test_data_predict3=randomforest.predict(X_test)"
   ]
  },
  {
   "cell_type": "code",
   "execution_count": 71,
   "metadata": {},
   "outputs": [],
   "source": [
    "train_data_predict3=randomforest.predict(X_train)"
   ]
  },
  {
   "cell_type": "code",
   "execution_count": 72,
   "metadata": {},
   "outputs": [
    {
     "name": "stdout",
     "output_type": "stream",
     "text": [
      "MAE: 0.1044110616438356\n",
      "MSE: 0.022774874811643822\n",
      "RMSE: 0.15091346795976768\n"
     ]
    }
   ],
   "source": [
    "print('MAE:', metrics.mean_absolute_error(y_test, test_data_predict3))\n",
    "print('MSE:', metrics.mean_squared_error(y_test, test_data_predict3))\n",
    "print('RMSE:', np.sqrt(metrics.mean_squared_error(y_test, test_data_predict3)))"
   ]
  },
  {
   "cell_type": "code",
   "execution_count": 73,
   "metadata": {},
   "outputs": [
    {
     "name": "stdout",
     "output_type": "stream",
     "text": [
      "MAE: 0.040245954276907255\n",
      "MSE: 0.003428475642606385\n",
      "RMSE: 0.05855318644280928\n"
     ]
    }
   ],
   "source": [
    "print('MAE:', metrics.mean_absolute_error(y_train, train_data_predict3))\n",
    "print('MSE:', metrics.mean_squared_error(y_train, train_data_predict3))\n",
    "print('RMSE:', np.sqrt(metrics.mean_squared_error(y_train, train_data_predict3)))"
   ]
  },
  {
   "cell_type": "code",
   "execution_count": 74,
   "metadata": {},
   "outputs": [
    {
     "data": {
      "text/plain": [
       "<AxesSubplot:xlabel='AveragePrice', ylabel='Density'>"
      ]
     },
     "execution_count": 74,
     "metadata": {},
     "output_type": "execute_result"
    },
    {
     "data": {
      "image/png": "[encoded data removed]",
      "text/plain": [
       "<Figure size 432x288 with 1 Axes>"
      ]
     },
     "metadata": {
      "needs_background": "light"
     },
     "output_type": "display_data"
    }
   ],
   "source": [
    "sns.distplot((y_test-test_data_predict3),bins=50)\n"
   ]
  },
  {
   "cell_type": "code",
   "execution_count": 75,
   "metadata": {},
   "outputs": [
    {
     "data": {
      "text/plain": [
       "<AxesSubplot:xlabel='AveragePrice', ylabel='Density'>"
      ]
     },
     "execution_count": 75,
     "metadata": {},
     "output_type": "execute_result"
    },
    {
     "data": {
      "image/png": "[encoded data removed]",
      "text/plain": [
       "<Figure size 432x288 with 1 Axes>"
      ]
     },
     "metadata": {
      "needs_background": "light"
     },
     "output_type": "display_data"
    }
   ],
   "source": [
    "sns.distplot((y_train-train_data_predict3),bins=50)\n"
   ]
  },
  {
   "cell_type": "code",
   "execution_count": 76,
   "metadata": {},
   "outputs": [
    {
     "data": {
      "text/plain": [
       "Text(0, 0.5, 'Predicted Y')"
      ]
     },
     "execution_count": 76,
     "metadata": {},
     "output_type": "execute_result"
    },
    {
     "data": {
      "image/png": "[encoded data removed]",
      "text/plain": [
       "<Figure size 432x288 with 1 Axes>"
      ]
     },
     "metadata": {
      "needs_background": "light"
     },
     "output_type": "display_data"
    }
   ],
   "source": [
    "plt.scatter(x=y_test,y=test_data_predict3)\n",
    "plt.xlabel('Y Test')\n",
    "plt.ylabel('Predicted Y')"
   ]
  },
  {
   "cell_type": "code",
   "execution_count": 56,
   "metadata": {},
   "outputs": [
    {
     "data": {
      "text/html": [
       "<div>\n",
       "<style scoped>\n",
       "    .dataframe tbody tr th:only-of-type {\n",
       "        vertical-align: middle;\n",
       "    }\n",
       "\n",
       "    .dataframe tbody tr th {\n",
       "        vertical-align: top;\n",
       "    }\n",
       "\n",
       "    .dataframe thead th {\n",
       "        text-align: right;\n",
       "    }\n",
       "</style>\n",
       "<table border=\"1\" class=\"dataframe\">\n",
       "  <thead>\n",
       "    <tr style=\"text-align: right;\">\n",
       "      <th></th>\n",
       "      <th>Id</th>\n",
       "      <th>Date</th>\n",
       "      <th>Total Volume</th>\n",
       "      <th>4046</th>\n",
       "      <th>4225</th>\n",
       "      <th>4770</th>\n",
       "      <th>Total Bags</th>\n",
       "      <th>Small Bags</th>\n",
       "      <th>Large Bags</th>\n",
       "      <th>XLarge Bags</th>\n",
       "      <th>type</th>\n",
       "      <th>year</th>\n",
       "      <th>region</th>\n",
       "    </tr>\n",
       "  </thead>\n",
       "  <tbody>\n",
       "    <tr>\n",
       "      <th>0</th>\n",
       "      <td>11137</td>\n",
       "      <td>2015-05-03</td>\n",
       "      <td>12425.42</td>\n",
       "      <td>426.78</td>\n",
       "      <td>6174.20</td>\n",
       "      <td>548.21</td>\n",
       "      <td>5276.23</td>\n",
       "      <td>2313.33</td>\n",
       "      <td>2962.90</td>\n",
       "      <td>0.00</td>\n",
       "      <td>organic</td>\n",
       "      <td>2015</td>\n",
       "      <td>RichmondNorfolk</td>\n",
       "    </tr>\n",
       "    <tr>\n",
       "      <th>1</th>\n",
       "      <td>16503</td>\n",
       "      <td>2017-10-08</td>\n",
       "      <td>11837.20</td>\n",
       "      <td>2749.91</td>\n",
       "      <td>124.43</td>\n",
       "      <td>0.00</td>\n",
       "      <td>8962.86</td>\n",
       "      <td>8921.88</td>\n",
       "      <td>40.98</td>\n",
       "      <td>0.00</td>\n",
       "      <td>organic</td>\n",
       "      <td>2017</td>\n",
       "      <td>PhoenixTucson</td>\n",
       "    </tr>\n",
       "    <tr>\n",
       "      <th>2</th>\n",
       "      <td>6438</td>\n",
       "      <td>2017-07-02</td>\n",
       "      <td>4250394.01</td>\n",
       "      <td>740503.01</td>\n",
       "      <td>1423924.97</td>\n",
       "      <td>356791.68</td>\n",
       "      <td>1729174.35</td>\n",
       "      <td>1157601.31</td>\n",
       "      <td>485376.01</td>\n",
       "      <td>86197.03</td>\n",
       "      <td>conventional</td>\n",
       "      <td>2017</td>\n",
       "      <td>GreatLakes</td>\n",
       "    </tr>\n",
       "    <tr>\n",
       "      <th>3</th>\n",
       "      <td>8247</td>\n",
       "      <td>2017-05-14</td>\n",
       "      <td>74951.66</td>\n",
       "      <td>1032.62</td>\n",
       "      <td>43170.45</td>\n",
       "      <td>42.00</td>\n",
       "      <td>30706.59</td>\n",
       "      <td>28525.65</td>\n",
       "      <td>2180.94</td>\n",
       "      <td>0.00</td>\n",
       "      <td>conventional</td>\n",
       "      <td>2017</td>\n",
       "      <td>Syracuse</td>\n",
       "    </tr>\n",
       "    <tr>\n",
       "      <th>4</th>\n",
       "      <td>10481</td>\n",
       "      <td>2015-12-13</td>\n",
       "      <td>4594.71</td>\n",
       "      <td>592.64</td>\n",
       "      <td>2602.48</td>\n",
       "      <td>0.00</td>\n",
       "      <td>1399.59</td>\n",
       "      <td>696.67</td>\n",
       "      <td>702.92</td>\n",
       "      <td>0.00</td>\n",
       "      <td>organic</td>\n",
       "      <td>2015</td>\n",
       "      <td>Nashville</td>\n",
       "    </tr>\n",
       "    <tr>\n",
       "      <th>...</th>\n",
       "      <td>...</td>\n",
       "      <td>...</td>\n",
       "      <td>...</td>\n",
       "      <td>...</td>\n",
       "      <td>...</td>\n",
       "      <td>...</td>\n",
       "      <td>...</td>\n",
       "      <td>...</td>\n",
       "      <td>...</td>\n",
       "      <td>...</td>\n",
       "      <td>...</td>\n",
       "      <td>...</td>\n",
       "      <td>...</td>\n",
       "    </tr>\n",
       "    <tr>\n",
       "      <th>3645</th>\n",
       "      <td>15250</td>\n",
       "      <td>2017-05-28</td>\n",
       "      <td>12161.37</td>\n",
       "      <td>325.70</td>\n",
       "      <td>4912.89</td>\n",
       "      <td>0.00</td>\n",
       "      <td>6922.78</td>\n",
       "      <td>975.95</td>\n",
       "      <td>5946.83</td>\n",
       "      <td>0.00</td>\n",
       "      <td>organic</td>\n",
       "      <td>2017</td>\n",
       "      <td>CincinnatiDayton</td>\n",
       "    </tr>\n",
       "    <tr>\n",
       "      <th>3646</th>\n",
       "      <td>2157</td>\n",
       "      <td>2015-07-12</td>\n",
       "      <td>490312.63</td>\n",
       "      <td>251056.27</td>\n",
       "      <td>182844.55</td>\n",
       "      <td>14524.67</td>\n",
       "      <td>41887.14</td>\n",
       "      <td>38417.55</td>\n",
       "      <td>3469.59</td>\n",
       "      <td>0.00</td>\n",
       "      <td>conventional</td>\n",
       "      <td>2015</td>\n",
       "      <td>SanDiego</td>\n",
       "    </tr>\n",
       "    <tr>\n",
       "      <th>3647</th>\n",
       "      <td>2029</td>\n",
       "      <td>2015-12-27</td>\n",
       "      <td>98584.92</td>\n",
       "      <td>33255.50</td>\n",
       "      <td>31680.16</td>\n",
       "      <td>152.86</td>\n",
       "      <td>33496.40</td>\n",
       "      <td>32877.16</td>\n",
       "      <td>0.00</td>\n",
       "      <td>619.24</td>\n",
       "      <td>conventional</td>\n",
       "      <td>2015</td>\n",
       "      <td>Roanoke</td>\n",
       "    </tr>\n",
       "    <tr>\n",
       "      <th>3648</th>\n",
       "      <td>11493</td>\n",
       "      <td>2015-06-28</td>\n",
       "      <td>55512.87</td>\n",
       "      <td>37684.23</td>\n",
       "      <td>5875.04</td>\n",
       "      <td>0.00</td>\n",
       "      <td>11953.60</td>\n",
       "      <td>11251.56</td>\n",
       "      <td>702.04</td>\n",
       "      <td>0.00</td>\n",
       "      <td>organic</td>\n",
       "      <td>2015</td>\n",
       "      <td>SouthCentral</td>\n",
       "    </tr>\n",
       "    <tr>\n",
       "      <th>3649</th>\n",
       "      <td>6000</td>\n",
       "      <td>2017-10-08</td>\n",
       "      <td>178991.71</td>\n",
       "      <td>50017.71</td>\n",
       "      <td>66076.12</td>\n",
       "      <td>4781.98</td>\n",
       "      <td>58115.90</td>\n",
       "      <td>52744.08</td>\n",
       "      <td>5371.82</td>\n",
       "      <td>0.00</td>\n",
       "      <td>conventional</td>\n",
       "      <td>2017</td>\n",
       "      <td>Charlotte</td>\n",
       "    </tr>\n",
       "  </tbody>\n",
       "</table>\n",
       "<p>3650 rows × 13 columns</p>\n",
       "</div>"
      ],
      "text/plain": [
       "         Id        Date  Total Volume       4046        4225       4770  \\\n",
       "0     11137  2015-05-03      12425.42     426.78     6174.20     548.21   \n",
       "1     16503  2017-10-08      11837.20    2749.91      124.43       0.00   \n",
       "2      6438  2017-07-02    4250394.01  740503.01  1423924.97  356791.68   \n",
       "3      8247  2017-05-14      74951.66    1032.62    43170.45      42.00   \n",
       "4     10481  2015-12-13       4594.71     592.64     2602.48       0.00   \n",
       "...     ...         ...           ...        ...         ...        ...   \n",
       "3645  15250  2017-05-28      12161.37     325.70     4912.89       0.00   \n",
       "3646   2157  2015-07-12     490312.63  251056.27   182844.55   14524.67   \n",
       "3647   2029  2015-12-27      98584.92   33255.50    31680.16     152.86   \n",
       "3648  11493  2015-06-28      55512.87   37684.23     5875.04       0.00   \n",
       "3649   6000  2017-10-08     178991.71   50017.71    66076.12    4781.98   \n",
       "\n",
       "      Total Bags  Small Bags  Large Bags  XLarge Bags          type  year  \\\n",
       "0        5276.23     2313.33     2962.90         0.00       organic  2015   \n",
       "1        8962.86     8921.88       40.98         0.00       organic  2017   \n",
       "2     1729174.35  1157601.31   485376.01     86197.03  conventional  2017   \n",
       "3       30706.59    28525.65     2180.94         0.00  conventional  2017   \n",
       "4        1399.59      696.67      702.92         0.00       organic  2015   \n",
       "...          ...         ...         ...          ...           ...   ...   \n",
       "3645     6922.78      975.95     5946.83         0.00       organic  2017   \n",
       "3646    41887.14    38417.55     3469.59         0.00  conventional  2015   \n",
       "3647    33496.40    32877.16        0.00       619.24  conventional  2015   \n",
       "3648    11953.60    11251.56      702.04         0.00       organic  2015   \n",
       "3649    58115.90    52744.08     5371.82         0.00  conventional  2017   \n",
       "\n",
       "                region  \n",
       "0      RichmondNorfolk  \n",
       "1        PhoenixTucson  \n",
       "2           GreatLakes  \n",
       "3             Syracuse  \n",
       "4            Nashville  \n",
       "...                ...  \n",
       "3645  CincinnatiDayton  \n",
       "3646          SanDiego  \n",
       "3647           Roanoke  \n",
       "3648      SouthCentral  \n",
       "3649         Charlotte  \n",
       "\n",
       "[3650 rows x 13 columns]"
      ]
     },
     "execution_count": 56,
     "metadata": {},
     "output_type": "execute_result"
    }
   ],
   "source": [
    "test_data = pd.read_csv('C:/Users/zoher/Desktop/Term 5/Project/AVACADO PRICE PREDICTION/avocado_test.csv')\n",
    "test_data"
   ]
  },
  {
   "cell_type": "code",
   "execution_count": 80,
   "metadata": {},
   "outputs": [],
   "source": [
    "test_data_final = pd.get_dummies(test_data.drop(['region','Date'],axis=1),drop_first=True)\n"
   ]
  },
  {
   "cell_type": "code",
   "execution_count": 81,
   "metadata": {},
   "outputs": [
    {
     "data": {
      "text/html": [
       "<div>\n",
       "<style scoped>\n",
       "    .dataframe tbody tr th:only-of-type {\n",
       "        vertical-align: middle;\n",
       "    }\n",
       "\n",
       "    .dataframe tbody tr th {\n",
       "        vertical-align: top;\n",
       "    }\n",
       "\n",
       "    .dataframe thead th {\n",
       "        text-align: right;\n",
       "    }\n",
       "</style>\n",
       "<table border=\"1\" class=\"dataframe\">\n",
       "  <thead>\n",
       "    <tr style=\"text-align: right;\">\n",
       "      <th></th>\n",
       "      <th>Id</th>\n",
       "      <th>Total Volume</th>\n",
       "      <th>4046</th>\n",
       "      <th>4225</th>\n",
       "      <th>4770</th>\n",
       "      <th>Total Bags</th>\n",
       "      <th>Small Bags</th>\n",
       "      <th>Large Bags</th>\n",
       "      <th>XLarge Bags</th>\n",
       "      <th>year</th>\n",
       "      <th>type_organic</th>\n",
       "    </tr>\n",
       "  </thead>\n",
       "  <tbody>\n",
       "    <tr>\n",
       "      <th>0</th>\n",
       "      <td>11137</td>\n",
       "      <td>12425.42</td>\n",
       "      <td>426.78</td>\n",
       "      <td>6174.20</td>\n",
       "      <td>548.21</td>\n",
       "      <td>5276.23</td>\n",
       "      <td>2313.33</td>\n",
       "      <td>2962.90</td>\n",
       "      <td>0.00</td>\n",
       "      <td>2015</td>\n",
       "      <td>1</td>\n",
       "    </tr>\n",
       "    <tr>\n",
       "      <th>1</th>\n",
       "      <td>16503</td>\n",
       "      <td>11837.20</td>\n",
       "      <td>2749.91</td>\n",
       "      <td>124.43</td>\n",
       "      <td>0.00</td>\n",
       "      <td>8962.86</td>\n",
       "      <td>8921.88</td>\n",
       "      <td>40.98</td>\n",
       "      <td>0.00</td>\n",
       "      <td>2017</td>\n",
       "      <td>1</td>\n",
       "    </tr>\n",
       "    <tr>\n",
       "      <th>2</th>\n",
       "      <td>6438</td>\n",
       "      <td>4250394.01</td>\n",
       "      <td>740503.01</td>\n",
       "      <td>1423924.97</td>\n",
       "      <td>356791.68</td>\n",
       "      <td>1729174.35</td>\n",
       "      <td>1157601.31</td>\n",
       "      <td>485376.01</td>\n",
       "      <td>86197.03</td>\n",
       "      <td>2017</td>\n",
       "      <td>0</td>\n",
       "    </tr>\n",
       "    <tr>\n",
       "      <th>3</th>\n",
       "      <td>8247</td>\n",
       "      <td>74951.66</td>\n",
       "      <td>1032.62</td>\n",
       "      <td>43170.45</td>\n",
       "      <td>42.00</td>\n",
       "      <td>30706.59</td>\n",
       "      <td>28525.65</td>\n",
       "      <td>2180.94</td>\n",
       "      <td>0.00</td>\n",
       "      <td>2017</td>\n",
       "      <td>0</td>\n",
       "    </tr>\n",
       "    <tr>\n",
       "      <th>4</th>\n",
       "      <td>10481</td>\n",
       "      <td>4594.71</td>\n",
       "      <td>592.64</td>\n",
       "      <td>2602.48</td>\n",
       "      <td>0.00</td>\n",
       "      <td>1399.59</td>\n",
       "      <td>696.67</td>\n",
       "      <td>702.92</td>\n",
       "      <td>0.00</td>\n",
       "      <td>2015</td>\n",
       "      <td>1</td>\n",
       "    </tr>\n",
       "    <tr>\n",
       "      <th>...</th>\n",
       "      <td>...</td>\n",
       "      <td>...</td>\n",
       "      <td>...</td>\n",
       "      <td>...</td>\n",
       "      <td>...</td>\n",
       "      <td>...</td>\n",
       "      <td>...</td>\n",
       "      <td>...</td>\n",
       "      <td>...</td>\n",
       "      <td>...</td>\n",
       "      <td>...</td>\n",
       "    </tr>\n",
       "    <tr>\n",
       "      <th>3645</th>\n",
       "      <td>15250</td>\n",
       "      <td>12161.37</td>\n",
       "      <td>325.70</td>\n",
       "      <td>4912.89</td>\n",
       "      <td>0.00</td>\n",
       "      <td>6922.78</td>\n",
       "      <td>975.95</td>\n",
       "      <td>5946.83</td>\n",
       "      <td>0.00</td>\n",
       "      <td>2017</td>\n",
       "      <td>1</td>\n",
       "    </tr>\n",
       "    <tr>\n",
       "      <th>3646</th>\n",
       "      <td>2157</td>\n",
       "      <td>490312.63</td>\n",
       "      <td>251056.27</td>\n",
       "      <td>182844.55</td>\n",
       "      <td>14524.67</td>\n",
       "      <td>41887.14</td>\n",
       "      <td>38417.55</td>\n",
       "      <td>3469.59</td>\n",
       "      <td>0.00</td>\n",
       "      <td>2015</td>\n",
       "      <td>0</td>\n",
       "    </tr>\n",
       "    <tr>\n",
       "      <th>3647</th>\n",
       "      <td>2029</td>\n",
       "      <td>98584.92</td>\n",
       "      <td>33255.50</td>\n",
       "      <td>31680.16</td>\n",
       "      <td>152.86</td>\n",
       "      <td>33496.40</td>\n",
       "      <td>32877.16</td>\n",
       "      <td>0.00</td>\n",
       "      <td>619.24</td>\n",
       "      <td>2015</td>\n",
       "      <td>0</td>\n",
       "    </tr>\n",
       "    <tr>\n",
       "      <th>3648</th>\n",
       "      <td>11493</td>\n",
       "      <td>55512.87</td>\n",
       "      <td>37684.23</td>\n",
       "      <td>5875.04</td>\n",
       "      <td>0.00</td>\n",
       "      <td>11953.60</td>\n",
       "      <td>11251.56</td>\n",
       "      <td>702.04</td>\n",
       "      <td>0.00</td>\n",
       "      <td>2015</td>\n",
       "      <td>1</td>\n",
       "    </tr>\n",
       "    <tr>\n",
       "      <th>3649</th>\n",
       "      <td>6000</td>\n",
       "      <td>178991.71</td>\n",
       "      <td>50017.71</td>\n",
       "      <td>66076.12</td>\n",
       "      <td>4781.98</td>\n",
       "      <td>58115.90</td>\n",
       "      <td>52744.08</td>\n",
       "      <td>5371.82</td>\n",
       "      <td>0.00</td>\n",
       "      <td>2017</td>\n",
       "      <td>0</td>\n",
       "    </tr>\n",
       "  </tbody>\n",
       "</table>\n",
       "<p>3650 rows × 11 columns</p>\n",
       "</div>"
      ],
      "text/plain": [
       "         Id  Total Volume       4046        4225       4770  Total Bags  \\\n",
       "0     11137      12425.42     426.78     6174.20     548.21     5276.23   \n",
       "1     16503      11837.20    2749.91      124.43       0.00     8962.86   \n",
       "2      6438    4250394.01  740503.01  1423924.97  356791.68  1729174.35   \n",
       "3      8247      74951.66    1032.62    43170.45      42.00    30706.59   \n",
       "4     10481       4594.71     592.64     2602.48       0.00     1399.59   \n",
       "...     ...           ...        ...         ...        ...         ...   \n",
       "3645  15250      12161.37     325.70     4912.89       0.00     6922.78   \n",
       "3646   2157     490312.63  251056.27   182844.55   14524.67    41887.14   \n",
       "3647   2029      98584.92   33255.50    31680.16     152.86    33496.40   \n",
       "3648  11493      55512.87   37684.23     5875.04       0.00    11953.60   \n",
       "3649   6000     178991.71   50017.71    66076.12    4781.98    58115.90   \n",
       "\n",
       "      Small Bags  Large Bags  XLarge Bags  year  type_organic  \n",
       "0        2313.33     2962.90         0.00  2015             1  \n",
       "1        8921.88       40.98         0.00  2017             1  \n",
       "2     1157601.31   485376.01     86197.03  2017             0  \n",
       "3       28525.65     2180.94         0.00  2017             0  \n",
       "4         696.67      702.92         0.00  2015             1  \n",
       "...          ...         ...          ...   ...           ...  \n",
       "3645      975.95     5946.83         0.00  2017             1  \n",
       "3646    38417.55     3469.59         0.00  2015             0  \n",
       "3647    32877.16        0.00       619.24  2015             0  \n",
       "3648    11251.56      702.04         0.00  2015             1  \n",
       "3649    52744.08     5371.82         0.00  2017             0  \n",
       "\n",
       "[3650 rows x 11 columns]"
      ]
     },
     "execution_count": 81,
     "metadata": {},
     "output_type": "execute_result"
    }
   ],
   "source": [
    "test_data_final"
   ]
  },
  {
   "cell_type": "code",
   "execution_count": 82,
   "metadata": {},
   "outputs": [],
   "source": [
    "prediction = randomforest.predict(test_data_final)"
   ]
  },
  {
   "cell_type": "code",
   "execution_count": 84,
   "metadata": {},
   "outputs": [],
   "source": [
    "res = pd.DataFrame(prediction)\n",
    "res.index = test_data_final.index\n",
    "res.index = test_data_final['Id']\n",
    "res.columns = [\"AveragePrice\"]\n",
    "res.to_csv(\"Avocado_price_prediction_zoherbehrainwala@gmail.com.csv\", index = False, header = False)"
   ]
  },
  {
   "cell_type": "markdown",
   "metadata": {
    "colab_type": "text",
    "id": "Pqk4cV2wrIIZ"
   },
   "source": [
    "---\n",
    "<a name = Section9></a>\n",
    "# **8. Summarization**\n",
    "---"
   ]
  },
  {
   "cell_type": "markdown",
   "metadata": {
    "colab_type": "text",
    "id": "z3MtiiACrVJq"
   },
   "source": [
    "<a name = Section91></a>\n",
    "### **8.1 Conclusion**\n",
    "\n",
    " - We studied in breifly about the data, its characteristics and its distribution.\n",
    "\n",
    " - We investigated about the AveragePrice of for the Avocado.\n",
    " \n",
    " - The prediction is done based on RMSE value as required.\n",
    "\n",
    " - Since the data here is continous we used 3 models. 1) Linear Regression model, 2) Decision Tree and 3) Random Forest for this dataset. We found that the Random forest is the best fit model for this dataset."
   ]
  },
  {
   "cell_type": "code",
   "execution_count": null,
   "metadata": {},
   "outputs": [],
   "source": []
  }
 ],
 "metadata": {
  "colab": {
   "authorship_tag": "ABX9TyMdZi1qBiGl72JrAeO1aUB8",
   "collapsed_sections": [],
   "name": "Analysis of Premier League Evolution.ipynb",
   "provenance": []
  },
  "kernelspec": {
   "display_name": "Python 3",
   "language": "python",
   "name": "python3"
  },
  "language_info": {
   "codemirror_mode": {
    "name": "ipython",
    "version": 3
   },
   "file_extension": ".py",
   "mimetype": "text/x-python",
   "name": "python",
   "nbconvert_exporter": "python",
   "pygments_lexer": "ipython3",
   "version": "3.8.8"
  }
 },
 "nbformat": 4,
 "nbformat_minor": 1
}
